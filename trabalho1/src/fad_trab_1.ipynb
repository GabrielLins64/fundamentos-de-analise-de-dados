{
 "cells": [
  {
   "cell_type": "markdown",
   "id": "5d55ab37",
   "metadata": {},
   "source": [
    "# Universidade Estadual do Ceará\n",
    "\n",
    "## Mestrado Acadêmico em Ciência da Computação\n",
    "\n",
    "---\n",
    "\n",
    "### Trabalho 1 - Regressão Linear com decomposição QR\n",
    "\n",
    "<div align=\"justify\">\n",
    "&emsp;Este trabalho acadêmico do mestrado tem como objetivo implementar e avaliar um modelo de regressão linear utilizando o método dos mínimos quadrados com decomposição QR em uma base de dados real.\n",
    "</div>\n",
    "\n",
    "---\n",
    "\n",
    "**Disciplina**: Fundamentos de Análise de Dados\n",
    "\n",
    "**Docente**: Ph.D Thelmo Pontes de Araújo\n",
    "\n",
    "**Discente**: Gabriel Lins"
   ]
  },
  {
   "attachments": {},
   "cell_type": "markdown",
   "id": "2b04865a",
   "metadata": {},
   "source": [
    "---\n",
    "---\n",
    "---\n",
    "# Fundamentação Teórica\n",
    "---"
   ]
  },
  {
   "attachments": {},
   "cell_type": "markdown",
   "id": "754351ec",
   "metadata": {},
   "source": [
    "## Decomposição QR\n",
    "---\n",
    "<div align=\"justify\">\n",
    "&emsp;A decomposição QR é uma técnica matemática que consiste em fatorar uma matriz em um produto de duas matrizes, uma ortogonal e outra triangular superior. A técnica QR é particularmente útil para problemas de regressão linear com alta dimensionalidade e/ou multicolinearidade, pois reduz o número de cálculos necessários para obter a solução. O método de Gram-Schmidt é uma técnica para obter a matriz ortogonal Q da decomposição QR de uma matriz, utilizando sucessivas projeções ortogonais. Esse processo é iterativo e envolve a subtração das componentes ortogonais dos vetores anteriores. \n",
    "\n",
    "&emsp;Embora o método de Gram-Schmidt seja uma forma intuitiva de obter a decomposição QR, ele pode apresentar instabilidades numéricas, principalmente quando a matriz é mal-condicionada. Por isso, existem outras variantes mais estáveis e eficientes, como a decomposição QR modificada de Householder e a decomposição QR de rotações de Givens.\n",
    "</div>\n",
    "\n",
    "## Método dos mínimos quadrados\n",
    "---\n",
    "\n",
    "<div align=\"justify\">\n",
    "&emsp;O método dos mínimos quadrados é um procedimento estatístico utilizado para estimar os parâmetros desconhecidos de um modelo linear, minimizando a soma dos quadrados das diferenças entre os valores observados e os valores preditos pelo modelo. Dado um modelo linear \n",
    "\n",
    "$$Ax = b $$\n",
    "\n",
    "&emsp;onde $b$ é o vetor de variáveis dependentes, $A$ é a matriz de variáveis independentes e $x$ é o vetor de parâmetros desconhecidos, o método dos mínimos quadrados estima os valores de **x** encontrando uma solução aproximada, $\\tilde{x}$, que minimiza a soma dos quadrados dos resíduos. Para conseguir essa aproximação, primeiramente projeta-se **b** no espaço-nulo esquerdo de A e resolve-se a equação normal\n",
    "\n",
    "$$ A^TAx = A^Tb $$\n",
    "\n",
    "Para resolver, substitui-se **A** por sua decomposição QR e obtém a seguinte equação normal:\n",
    "\n",
    "$$ R\\tilde{x} = Q^Tb $$\n",
    "\n",
    "</div>"
   ]
  },
  {
   "attachments": {},
   "cell_type": "markdown",
   "id": "23d88b79",
   "metadata": {},
   "source": [
    "## Base de Dados\n",
    "---\n",
    "<div align=\"justify\">\n",
    "&emsp;A base de dados utilizada neste trabalho é a \"Protein Localization Sites\" composta por variáveis contínuas e categóricas. A base possui 1484 instâncias de proteínas de levedura e 8 atributos preditivos. Os atributos possuem siglas como \"mcg\", \"gvh\" e \"mit\" e representam métodos de reconhecimento de sequência de sinal, pontuação de programas de predição de região de membrana, presença de substrings e escores de análise discriminante. A classe é a localização da proteína e possui 10 possíveis valores, como \"NUC\" para nuclear e \"MIT\" para mitocondrial.\n",
    "\n",
    "&emsp;Alguns exemplos dos dados podem ser vistos abaixo:\n",
    "</div>\n",
    "\n",
    "| Sequence_Name | mcg  | gvh  | alm  | mit  | erl  | pox  | vac  | nuc  | label |\n",
    "| -------------|-----:|-----:|-----:|-----:|-----:|-----:|-----:|-----:|------:|\n",
    "| ADT1_YEAST   | 0.58 | 0.61 | 0.47 | 0.13 | 0.50 | 0.00 | 0.48 | 0.22 |   MIT |\n",
    "| ADT2_YEAST   | 0.43 | 0.67 | 0.48 | 0.27 | 0.50 | 0.00 | 0.53 | 0.22 |   MIT |\n",
    "| ADT3_YEAST   | 0.64 | 0.62 | 0.49 | 0.15 | 0.50 | 0.00 | 0.53 | 0.22 |   MIT |\n",
    "| AAR2_YEAST   | 0.58 | 0.44 | 0.57 | 0.13 | 0.50 | 0.00 | 0.54 | 0.22 |   NUC |"
   ]
  },
  {
   "attachments": {},
   "cell_type": "markdown",
   "id": "9afd6f5f",
   "metadata": {},
   "source": [
    "---\n",
    "---\n",
    "---\n",
    "# Código\n",
    "---"
   ]
  },
  {
   "cell_type": "markdown",
   "id": "4fa95dac",
   "metadata": {},
   "source": [
    "## Leitura dos dados"
   ]
  },
  {
   "cell_type": "code",
   "execution_count": 212,
   "id": "8e8f5c23",
   "metadata": {},
   "outputs": [
    {
     "name": "stdout",
     "output_type": "stream",
     "text": [
      "  Sequence_Name   mcg   gvh   alm   mit  erl  pox   vac   nuc label\n",
      "0    ADT1_YEAST  0.58  0.61  0.47  0.13  0.5  0.0  0.48  0.22   MIT\n",
      "1    ADT2_YEAST  0.43  0.67  0.48  0.27  0.5  0.0  0.53  0.22   MIT\n",
      "2    ADT3_YEAST  0.64  0.62  0.49  0.15  0.5  0.0  0.53  0.22   MIT\n",
      "3    AAR2_YEAST  0.58  0.44  0.57  0.13  0.5  0.0  0.54  0.22   NUC\n",
      "4    AATM_YEAST  0.42  0.44  0.48  0.54  0.5  0.0  0.48  0.22   MIT\n",
      "Dataset size: 1484\n"
     ]
    }
   ],
   "source": [
    "import pandas as pd\n",
    "\n",
    "# Lendo o arquivo csv\n",
    "df = pd.read_csv('../data/yeast.data.csv')\n",
    "\n",
    "# Imprimindo o início dos dados\n",
    "print(df.head())\n",
    "print(f\"Dataset size: {len(df.index)}\")"
   ]
  },
  {
   "attachments": {},
   "cell_type": "markdown",
   "id": "7ec9903f",
   "metadata": {},
   "source": [
    "## Separando os dados em treinamento e teste"
   ]
  },
  {
   "cell_type": "code",
   "execution_count": 213,
   "id": "18aecd23",
   "metadata": {},
   "outputs": [
    {
     "name": "stdout",
     "output_type": "stream",
     "text": [
      "       mcg   gvh   alm   mit  erl  pox   vac   nuc\n",
      "1228  0.31  0.40  0.31  0.17  0.5  0.0  0.52  0.22\n",
      "1032  0.37  0.37  0.51  0.38  0.5  0.0  0.44  0.22\n",
      "757   0.26  0.28  0.60  0.20  0.5  0.0  0.54  0.31\n",
      "481   0.40  0.51  0.42  0.13  0.5  0.0  0.45  0.25\n",
      "129   0.41  0.40  0.59  0.47  0.5  0.0  0.48  0.43\n",
      "   0\n",
      "0  5\n",
      "1  0\n",
      "2  6\n",
      "3  5\n",
      "4  0\n",
      "Train size: 1038\n",
      "Test size: 446\n"
     ]
    }
   ],
   "source": [
    "from sklearn.model_selection import train_test_split\n",
    "from sklearn.preprocessing import LabelEncoder\n",
    "\n",
    "X = df.drop(\"label\", axis=1).drop(\"Sequence_Name\", axis=1)\n",
    "# X = X.drop(\"pox\", axis=1) # Tentativa de melhorar a estimativa (não melhora)\n",
    "y = df[\"label\"]\n",
    "\n",
    "# Separando os dados em treino (70%) e teste (30%)\n",
    "X_train, X_test, y_train, y_test = train_test_split(X, y, test_size=0.3, random_state=42)\n",
    "\n",
    "# Atribuindo valores numéricos para as classes\n",
    "le = LabelEncoder()\n",
    "y_train = pd.DataFrame(le.fit_transform(y_train))\n",
    "y_test = pd.DataFrame(le.fit_transform(y_test))\n",
    "\n",
    "print(X_train.head())\n",
    "print(y_train.head())\n",
    "print(f\"Train size: {len(X_train.index)}\")\n",
    "print(f\"Test size: {len(y_test.index)}\")"
   ]
  },
  {
   "attachments": {},
   "cell_type": "markdown",
   "id": "dd49e831",
   "metadata": {},
   "source": [
    "## Adicionando uma coluna de \"1s\""
   ]
  },
  {
   "cell_type": "code",
   "execution_count": 214,
   "id": "e5b30b8e",
   "metadata": {},
   "outputs": [
    {
     "name": "stdout",
     "output_type": "stream",
     "text": [
      "      0     1     2     3    4    5     6     7    8\n",
      "0  0.31  0.40  0.31  0.17  0.5  0.0  0.52  0.22  1.0\n",
      "1  0.37  0.37  0.51  0.38  0.5  0.0  0.44  0.22  1.0\n",
      "2  0.26  0.28  0.60  0.20  0.5  0.0  0.54  0.31  1.0\n",
      "3  0.40  0.51  0.42  0.13  0.5  0.0  0.45  0.25  1.0\n",
      "4  0.41  0.40  0.59  0.47  0.5  0.0  0.48  0.43  1.0\n",
      "      0     1     2     3    4    5     6     7    8\n",
      "0  0.59  0.60  0.49  0.43  0.5  0.0  0.53  0.31  1.0\n",
      "1  0.45  0.56  0.51  0.64  0.5  0.0  0.54  0.22  1.0\n",
      "2  0.57  0.50  0.40  0.08  0.5  0.0  0.47  0.22  1.0\n",
      "3  0.53  0.44  0.47  0.22  0.5  0.0  0.53  0.22  1.0\n",
      "4  0.38  0.37  0.36  0.14  0.5  0.0  0.54  0.22  1.0\n"
     ]
    }
   ],
   "source": [
    "import numpy as np\n",
    "\n",
    "if X_train.shape[1] == X.shape[1]:\n",
    "    ones_train = np.ones((X_train.shape[0], 1)) # Cria um array de 1's com o mesmo número de linhas de X_train\n",
    "    X_train = np.concatenate((X_train, ones_train), axis=1) # Concatena o array de 1's com X_train\n",
    "\n",
    "if X_test.shape[1] == X.shape[1]:\n",
    "    ones_test = np.ones((X_test.shape[0], 1)) # Cria um array de 1's com o mesmo número de linhas de X_test\n",
    "    X_test = np.concatenate((X_test, ones_test), axis=1) # Concatena o array de 1's com X_test\n",
    "\n",
    "print(pd.DataFrame(X_train).head())\n",
    "print(pd.DataFrame(X_test).head())"
   ]
  },
  {
   "attachments": {},
   "cell_type": "markdown",
   "id": "5d24af50",
   "metadata": {},
   "source": [
    "## Calculando o posto (dimensão do espaço coluna) das matrizes"
   ]
  },
  {
   "cell_type": "code",
   "execution_count": 215,
   "id": "65cd3be4",
   "metadata": {},
   "outputs": [
    {
     "name": "stdout",
     "output_type": "stream",
     "text": [
      "Posto de X_train: 9\n",
      "Posto de X_test: 9\n"
     ]
    }
   ],
   "source": [
    "posto_X_train = np.linalg.matrix_rank(X_train)\n",
    "posto_X_test = np.linalg.matrix_rank(X_test)\n",
    "\n",
    "print(\"Posto de X_train:\", posto_X_train)\n",
    "print(\"Posto de X_test:\", posto_X_test)"
   ]
  },
  {
   "attachments": {},
   "cell_type": "markdown",
   "id": "09d36f47",
   "metadata": {},
   "source": [
    "## Decomposição QR da matriz X de treinamento"
   ]
  },
  {
   "cell_type": "code",
   "execution_count": 216,
   "id": "2ad8c3ec",
   "metadata": {},
   "outputs": [
    {
     "name": "stdout",
     "output_type": "stream",
     "text": [
      "Matriz Q (arredondada)\n",
      "[[-0.018 -0.027  0.005 -0.001  0.068 -0.    -0.035  0.019 -0.052]\n",
      " [-0.022 -0.004 -0.032  0.037  0.021 -0.002  0.013  0.012 -0.032]\n",
      " [-0.015 -0.008 -0.067 -0.004  0.016 -0.003 -0.029  0.002  0.01 ]\n",
      " [-0.024 -0.033  0.002 -0.023  0.025 -0.002  0.013  0.002 -0.042]]\n",
      "Matriz R (arredondada)\n",
      "[[-16.8   -16.171 -15.452  -8.269 -15.757  -0.279 -15.569  -8.398 -31.088]\n",
      " [  0.     -3.758  -1.931  -1.008  -2.182   0.042  -2.219  -1.358  -4.368]\n",
      " [  0.      0.     -5.146  -1.224  -2.969  -0.048  -2.807  -1.977  -6.179]\n",
      " [  0.      0.      0.      4.202   0.023  -0.027  -0.096  -0.067   0.167]\n",
      " [  0.      0.      0.      0.      2.424  -0.053   1.587   1.046   2.786]\n",
      " [  0.      0.      0.      0.      0.      2.535   0.039  -0.09    0.001]\n",
      " [  0.      0.      0.      0.      0.      0.     -2.269  -0.856  -1.519]\n",
      " [  0.      0.      0.      0.      0.      0.      0.     -3.342  -0.338]\n",
      " [  0.      0.      0.      0.      0.      0.      0.      0.     -2.018]]\n"
     ]
    }
   ],
   "source": [
    "Q, R = np.linalg.qr(X_train)\n",
    "\n",
    "np.set_printoptions(suppress=True)\n",
    "print(\"Matriz Q (arredondada)\")\n",
    "print(np.round(Q[:4,:], 3))\n",
    "print(\"Matriz R (arredondada)\")\n",
    "print(np.round(R, 3))"
   ]
  },
  {
   "attachments": {},
   "cell_type": "markdown",
   "id": "eb20aa5b",
   "metadata": {},
   "source": [
    "## Obtendo a estimativa $\\tilde{x}$\n",
    "\n",
    "Primeiro calculamos $Q^Tb = y$ para, então, resolver $R\\tilde{x} = y$"
   ]
  },
  {
   "cell_type": "code",
   "execution_count": 217,
   "id": "2107e65f",
   "metadata": {},
   "outputs": [
    {
     "name": "stdout",
     "output_type": "stream",
     "text": [
      "[[-2.10870976]\n",
      " [-0.13984511]\n",
      " [-3.84603587]\n",
      " [ 2.34265516]\n",
      " [-2.31232249]\n",
      " [ 4.32551887]\n",
      " [-1.15158888]\n",
      " [ 5.8936976 ]\n",
      " [ 6.69671939]]\n",
      "Tamanho de x: 9\n"
     ]
    }
   ],
   "source": [
    "Qtb = np.dot(Q.T, y_train.values)\n",
    "\n",
    "x = np.linalg.solve(R, Qtb)\n",
    "\n",
    "print(x)\n",
    "print(f\"Tamanho de x: {len(x)}\")"
   ]
  },
  {
   "attachments": {},
   "cell_type": "markdown",
   "id": "40a9c985",
   "metadata": {},
   "source": [
    "##  Cálculo das estimativas"
   ]
  },
  {
   "cell_type": "code",
   "execution_count": 218,
   "id": "4bf105b2",
   "metadata": {},
   "outputs": [
    {
     "name": "stdout",
     "output_type": "stream",
     "text": [
      "Estimativa de treinamento:\n",
      "[[4.73468759]\n",
      " [4.42723788]\n",
      " [4.31923475]\n",
      " [4.27017275]\n",
      " [5.43346317]\n",
      " [3.95331748]]\n",
      "Estimativa de teste:\n",
      "[[4.55200062]\n",
      " [4.72590198]\n",
      " [3.6730358 ]\n",
      " [3.75542877]\n",
      " [4.30566004]\n",
      " [4.84777737]]\n",
      "Estimativa de treinamento (arredondada):\n",
      "[[5.]\n",
      " [4.]\n",
      " [4.]\n",
      " [4.]\n",
      " [5.]\n",
      " [4.]]\n",
      "Estimativa de teste (arredondada):\n",
      "[[5.]\n",
      " [5.]\n",
      " [4.]\n",
      " [4.]\n",
      " [4.]\n",
      " [5.]]\n"
     ]
    }
   ],
   "source": [
    "y_train_est = np.dot(X_train, x)\n",
    "y_test_est = np.dot(X_test, x)\n",
    "y_train_est_round = np.round(y_train_est, 0)\n",
    "y_test_est_round = np.round(y_test_est, 0)\n",
    "\n",
    "print(\"Estimativa de treinamento:\")\n",
    "print(y_train_est[:6])\n",
    "print(\"Estimativa de teste:\")\n",
    "print(y_test_est[:6])\n",
    "\n",
    "print(\"Estimativa de treinamento (arredondada):\")\n",
    "print(y_train_est_round[:6])\n",
    "print(\"Estimativa de teste (arredondada):\")\n",
    "print(y_test_est_round[:6])"
   ]
  },
  {
   "attachments": {},
   "cell_type": "markdown",
   "id": "d143ded0",
   "metadata": {},
   "source": [
    "## Gráfico de $ŷ \\times y$ para os dados de treinamento"
   ]
  },
  {
   "cell_type": "code",
   "execution_count": 219,
   "id": "1ba4da28",
   "metadata": {},
   "outputs": [
    {
     "data": {
      "image/png": "[encoded data removed]",
      "text/plain": [
       "<Figure size 640x480 with 1 Axes>"
      ]
     },
     "metadata": {},
     "output_type": "display_data"
    }
   ],
   "source": [
    "import matplotlib.pyplot as plt\n",
    "\n",
    "# Gerar o gráfico de dispersão\n",
    "plt.scatter(y_train, y_train_est)\n",
    "\n",
    "# Configura os tamanhos do gráfico\n",
    "plt.xlim(-1, 11)\n",
    "plt.ylim(-1, 11)\n",
    "plt.xticks(range(0, 11, 1))\n",
    "plt.yticks(range(0, 11, 1))\n",
    "\n",
    "# Adicionar a reta pontilhada a +45◦ do eixo das abscissas\n",
    "plt.plot([y_train.min(), y_train.max()], [y_train.min(), y_train.max()], '--', color='gray')\n",
    "\n",
    "# Configurar os eixos do gráfico\n",
    "plt.xlabel('Valores reais de treinamento')\n",
    "plt.ylabel('Valores estimados de treinamento')\n",
    "plt.axis('equal')\n",
    "\n",
    "# Exibir o gráfico\n",
    "plt.show()"
   ]
  },
  {
   "attachments": {},
   "cell_type": "markdown",
   "id": "355489aa",
   "metadata": {},
   "source": [
    "## RMSE de treinamento\n",
    "\n",
    "Vamos usar a seguinte fórmula \n",
    "\n",
    "$$RMSE_{train} = \\sqrt{\\frac{1}{n_{train}}\\sum_{i=1}^{n_{train}}(y_{train}^{(i)} - \\hat{y}_{train}^{(i)})^2}$$"
   ]
  },
  {
   "cell_type": "code",
   "execution_count": 220,
   "id": "13faa3dd",
   "metadata": {},
   "outputs": [
    {
     "name": "stdout",
     "output_type": "stream",
     "text": [
      "RMSE_train: 2.903370754332278\n"
     ]
    }
   ],
   "source": [
    "RMSE_train = np.sqrt(np.mean((y_train - y_train_est)**2))\n",
    "\n",
    "print('RMSE_train:', RMSE_train)"
   ]
  },
  {
   "attachments": {},
   "cell_type": "markdown",
   "id": "dcec9f5b",
   "metadata": {},
   "source": [
    "## Gráfico de $ŷ \\times y$ para os dados de teste"
   ]
  },
  {
   "cell_type": "code",
   "execution_count": 221,
   "id": "97ea11c7",
   "metadata": {},
   "outputs": [
    {
     "data": {
      "image/png": "[encoded data removed]",
      "text/plain": [
       "<Figure size 640x480 with 1 Axes>"
      ]
     },
     "metadata": {},
     "output_type": "display_data"
    }
   ],
   "source": [
    "import matplotlib.pyplot as plt\n",
    "\n",
    "# Gerar o gráfico de dispersão\n",
    "plt.scatter(y_test, y_test_est)\n",
    "\n",
    "# Configura os tamanhos do gráfico\n",
    "plt.xlim(-1, 11)\n",
    "plt.ylim(-1, 11)\n",
    "plt.xticks(range(0, 11, 1))\n",
    "plt.yticks(range(0, 11, 1))\n",
    "\n",
    "# Adicionar a reta pontilhada a +45◦ do eixo das abscissas\n",
    "plt.plot([y_test.min(), y_test.max()], [y_test.min(), y_test.max()], '--', color='gray')\n",
    "\n",
    "# Configurar os eixos do gráfico\n",
    "plt.xlabel('Valores reais de treinamento')\n",
    "plt.ylabel('Valores estimados de treinamento')\n",
    "plt.axis('equal')\n",
    "\n",
    "# Exibir o gráfico\n",
    "plt.show()"
   ]
  },
  {
   "attachments": {},
   "cell_type": "markdown",
   "id": "ddbcf3c9",
   "metadata": {},
   "source": [
    "## RMSE de teste\n",
    "\n",
    "Vamos usar a seguinte fórmula \n",
    "\n",
    "$$RMSE_{test} = \\sqrt{\\frac{1}{n_{test}}\\sum_{i=1}^{n_{test}}(y_{test}^{(i)} - \\hat{y}_{test}^{(i)})^2}$$"
   ]
  },
  {
   "cell_type": "code",
   "execution_count": 222,
   "id": "3057da10",
   "metadata": {},
   "outputs": [
    {
     "name": "stdout",
     "output_type": "stream",
     "text": [
      "RMSE_test: 2.6687229966483845\n"
     ]
    }
   ],
   "source": [
    "RMSE_test = np.sqrt(np.mean((y_test - y_test_est)**2))\n",
    "\n",
    "print('RMSE_test:', RMSE_test)"
   ]
  }
 ],
 "metadata": {
  "kernelspec": {
   "display_name": "venv",
   "language": "python",
   "name": "python3"
  },
  "language_info": {
   "codemirror_mode": {
    "name": "ipython",
    "version": 3
   },
   "file_extension": ".py",
   "mimetype": "text/x-python",
   "name": "python",
   "nbconvert_exporter": "python",
   "pygments_lexer": "ipython3",
   "version": "3.11.3"
  }
 },
 "nbformat": 4,
 "nbformat_minor": 5
}
